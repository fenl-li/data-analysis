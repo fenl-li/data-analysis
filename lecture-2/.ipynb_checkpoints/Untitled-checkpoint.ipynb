{
 "cells": [
  {
   "cell_type": "code",
   "execution_count": 1,
   "id": "e6bdb68c-e141-42ef-a2d3-1b78f4bf1195",
   "metadata": {},
   "outputs": [
    {
     "data": {
      "text/plain": [
       "<bound method DataFrame.info of       animal_s_name       license_issue_date  license_number  \\\n",
       "0              Ozzy  2005-03-29T00:00:00.000        130651.0   \n",
       "1              Jack  2009-12-23T00:00:00.000        898148.0   \n",
       "2            Ginger  2006-01-20T00:00:00.000         29654.0   \n",
       "3            Pepper  2006-02-07T00:00:00.000         75432.0   \n",
       "4              Addy  2006-08-04T00:00:00.000        729899.0   \n",
       "...             ...                      ...             ...   \n",
       "66037          Lily  2016-12-27T00:00:00.000             NaN   \n",
       "66038         Ellie  2016-11-29T00:00:00.000             NaN   \n",
       "66039         Sammy  2016-12-05T00:00:00.000             NaN   \n",
       "66040         Buddy  2016-12-06T00:00:00.000             NaN   \n",
       "66041           Aku  2016-12-07T00:00:00.000             NaN   \n",
       "\n",
       "                           primary_breed      secondary_breed species zip_code  \n",
       "0      Dachshund, Standard Smooth Haired                  NaN     Dog    98104  \n",
       "1                   Schnauzer, Miniature         Terrier, Rat     Dog    98107  \n",
       "2                      Retriever, Golden  Retriever, Labrador     Dog    98117  \n",
       "3                                   Manx                  Mix     Cat    98103  \n",
       "4                      Retriever, Golden                  NaN     Dog    98105  \n",
       "...                                  ...                  ...     ...      ...  \n",
       "66037                 Domestic Shorthair                  Mix     Cat    98117  \n",
       "66038                    German Shepherd                  Mix     Dog    98105  \n",
       "66039                            Terrier              Maltese     Dog    98105  \n",
       "66040                        Bullmastiff                  Mix     Dog    98105  \n",
       "66041              Chihuahua, Short Coat              Terrier     Dog    98106  \n",
       "\n",
       "[66042 rows x 7 columns]>"
      ]
     },
     "execution_count": 1,
     "metadata": {},
     "output_type": "execute_result"
    }
   ],
   "source": [
    "import pandas as pd\n",
    "df = pd.read_csv('seattle_pet_licenses.csv')\n",
    "df.info"
   ]
  },
  {
   "cell_type": "code",
   "execution_count": 3,
   "id": "90e44924-581a-4588-85cb-3ca20dc51d1b",
   "metadata": {},
   "outputs": [
    {
     "name": "stdout",
     "output_type": "stream",
     "text": [
      "Top three most common  pet names:\n",
      "Lucy, 566\n",
      "Bella, 451\n",
      "Charlie, 447\n",
      "<class 'pandas.core.frame.DataFrame'>\n",
      "RangeIndex: 66042 entries, 0 to 66041\n",
      "Data columns (total 7 columns):\n",
      " #   Column              Non-Null Count  Dtype  \n",
      "---  ------              --------------  -----  \n",
      " 0   animal_s_name       64685 non-null  object \n",
      " 1   license_issue_date  66042 non-null  object \n",
      " 2   license_number      43885 non-null  float64\n",
      " 3   primary_breed       66042 non-null  object \n",
      " 4   secondary_breed     22538 non-null  object \n",
      " 5   species             66042 non-null  object \n",
      " 6   zip_code            65884 non-null  object \n",
      "dtypes: float64(1), object(6)\n",
      "memory usage: 3.5+ MB\n"
     ]
    }
   ],
   "source": [
    "pet_name_counts = df['animal_s_name' ].value_counts()  \n",
    "top_3_pets = pet_name_counts.head(3)  \n",
    "\n",
    "print('Top three most common  pet names:')\n",
    "for pet_name, count in top_3_pets.items():  \n",
    "    print(f\"{pet_name}, {count}\")\n",
    "\n",
    "df.info()"
   ]
  },
  {
   "cell_type": "code",
   "execution_count": null,
   "id": "de7dc5d0-0e72-41a1-8549-6d004e8926f8",
   "metadata": {},
   "outputs": [],
   "source": []
  }
 ],
 "metadata": {
  "kernelspec": {
   "display_name": "Python 3 (ipykernel)",
   "language": "python",
   "name": "python3"
  },
  "language_info": {
   "codemirror_mode": {
    "name": "ipython",
    "version": 3
   },
   "file_extension": ".py",
   "mimetype": "text/x-python",
   "name": "python",
   "nbconvert_exporter": "python",
   "pygments_lexer": "ipython3",
   "version": "3.12.4"
  }
 },
 "nbformat": 4,
 "nbformat_minor": 5
}

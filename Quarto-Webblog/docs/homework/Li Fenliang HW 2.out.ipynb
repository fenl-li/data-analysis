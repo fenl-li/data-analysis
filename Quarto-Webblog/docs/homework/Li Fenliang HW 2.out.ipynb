{
  "cells": [
    {
      "cell_type": "markdown",
      "metadata": {},
      "source": [
        "#"
      ],
      "id": "f99289f6-1e79-4fed-a8ac-8da6cc54c4d6"
    },
    {
      "cell_type": "code",
      "execution_count": 10,
      "metadata": {},
      "outputs": [
        {
          "output_type": "stream",
          "name": "stdout",
          "text": [
            "<class 'pandas.core.frame.DataFrame'>\n",
            "RangeIndex: 66042 entries, 0 to 66041\n",
            "Data columns (total 7 columns):\n",
            " #   Column              Non-Null Count  Dtype  \n",
            "---  ------              --------------  -----  \n",
            " 0   animal_s_name       64685 non-null  object \n",
            " 1   license_issue_date  66042 non-null  object \n",
            " 2   license_number      43885 non-null  float64\n",
            " 3   primary_breed       66042 non-null  object \n",
            " 4   secondary_breed     22538 non-null  object \n",
            " 5   species             66042 non-null  object \n",
            " 6   zip_code            65884 non-null  object \n",
            "dtypes: float64(1), object(6)\n",
            "memory usage: 3.5+ MB"
          ]
        }
      ],
      "source": [
        "import pandas as pd\n",
        "df = pd.read_csv('seattle_pet_licenses.csv')\n",
        "df.info()"
      ],
      "id": "e6bdb68c-e141-42ef-a2d3-1b78f4bf1195"
    },
    {
      "cell_type": "code",
      "execution_count": 12,
      "metadata": {},
      "outputs": [
        {
          "output_type": "stream",
          "name": "stdout",
          "text": [
            "Top three most common  pet names:\n",
            "Lucy, 566\n",
            "Bella, 451\n",
            "Charlie, 447"
          ]
        }
      ],
      "source": [
        "pet_name_counts = df['animal_s_name' ].value_counts()  \n",
        "top_3_pets = pet_name_counts.head(3)  \n",
        "\n",
        "print('Top three most common  pet names:')\n",
        "for pet_name, count in top_3_pets.items():  \n",
        "    print(f\"{pet_name}, {count}\")"
      ],
      "id": "90e44924-581a-4588-85cb-3ca20dc51d1b"
    }
  ],
  "nbformat": 4,
  "nbformat_minor": 5,
  "metadata": {
    "kernelspec": {
      "name": "python3",
      "display_name": "Python 3 (ipykernel)",
      "language": "python"
    },
    "language_info": {
      "name": "python",
      "codemirror_mode": {
        "name": "ipython",
        "version": "3"
      },
      "file_extension": ".py",
      "mimetype": "text/x-python",
      "nbconvert_exporter": "python",
      "pygments_lexer": "ipython3",
      "version": "3.12.4"
    }
  }
}